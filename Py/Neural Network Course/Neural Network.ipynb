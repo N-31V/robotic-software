{
 "cells": [
  {
   "cell_type": "markdown",
   "metadata": {},
   "source": [
    "### Импорт библиотек"
   ]
  },
  {
   "cell_type": "code",
   "execution_count": 2,
   "metadata": {},
   "outputs": [],
   "source": [
    "import numpy as np\n",
    "import random\n",
    "random.seed(42) # начальное состояние генератора случайных чисел, чтобы можно было воспроизводить результаты."
   ]
  },
  {
   "cell_type": "markdown",
   "metadata": {},
   "source": [
    "### Возможные фунции активации и их производные"
   ]
  },
  {
   "cell_type": "code",
   "execution_count": 3,
   "metadata": {},
   "outputs": [],
   "source": [
    "def sigmoid(x):\n",
    "    \"\"\"сигмоидальная функция, работает и с числами, и с векторами (поэлементно)\"\"\"\n",
    "    return 1 / (1 + np.exp(-x))\n",
    "\n",
    "def sigmoid_prime(x):\n",
    "    \"\"\"производная сигмоидальной функции, работает и с числами, и с векторами (поэлементно)\"\"\"\n",
    "    return sigmoid(x) * (1 - sigmoid(x))"
   ]
  },
  {
   "cell_type": "markdown",
   "metadata": {},
   "source": [
    "### Класс \"Слой\""
   ]
  },
  {
   "cell_type": "code",
   "execution_count": 24,
   "metadata": {},
   "outputs": [],
   "source": [
    "class NeuralNetworkLayer:\n",
    "        \n",
    "    def __init__(self, weights, bias, act_f=sigmoid, act_f_der=sigmoid_prime):\n",
    "        \n",
    "        self.w = weights\n",
    "        self.b = bias\n",
    "        self.z = None\n",
    "        self.a = None\n",
    "        self.act_f = act_f\n",
    "        self.act_f_der=act_f_der\n",
    "        \n",
    "    def summatory(self, x):\n",
    "        self.z=self.w.dot(x)+self.b\n",
    "    \n",
    "    def activation(self):   \n",
    "        self.a=self.act_f(self.z)        \n",
    "            \n",
    "    def get_error(self, d, w):\n",
    "        return (w.T.dot(d)*self.act_f_der(self.z))\n",
    "    \n",
    "    def update_w(self,d,x):\n",
    "        self.w-=d.dot(x.T)\n",
    "        self.b-=d\n",
    "  \n"
   ]
  },
  {
   "cell_type": "markdown",
   "metadata": {},
   "source": [
    "### Класс \"Нейросеть\""
   ]
  },
  {
   "cell_type": "code",
   "execution_count": 37,
   "metadata": {},
   "outputs": [],
   "source": [
    "class NeuralNetwork:\n",
    "        \n",
    "    def __init__(self, layers, x, y):        \n",
    "        self.l = layers\n",
    "        self.x=x\n",
    "        self.y=y\n",
    "    \n",
    "    def vectorized_forward_pass(self):\n",
    "        x=self.x\n",
    "        for l in self.l:\n",
    "            l.summatory(x)\n",
    "            l.activation()\n",
    "            x=l.a\n",
    "            print('выходные активации слоя ', x)     \n",
    "        \n",
    "    def last_error(self):\n",
    "        a=self.l[-1].a\n",
    "        return (a-y)*a*(1-a)\n",
    "\n",
    "    def errors(self):\n",
    "        d=self.last_error()\n",
    "        print('последняя ошибка:',d)\n",
    "        for i in reversed(range(len(self.l)-1)):\n",
    "            d2=self.l[i].get_error(d,self.l[i-1].w)\n",
    "            self.l[i+1].update_w(d,self.l[i].a)\n",
    "            d=d2\n",
    "            print('ошибка:',d)\n",
    "        self.l[0].update_w(d,self.x)\n",
    "\n"
   ]
  },
  {
   "cell_type": "markdown",
   "metadata": {},
   "source": [
    "### Блок тестирования"
   ]
  },
  {
   "cell_type": "code",
   "execution_count": 39,
   "metadata": {},
   "outputs": [
    {
     "name": "stdout",
     "output_type": "stream",
     "text": [
      "выходные активации слоя  [[0.81757448]\n",
      " [0.7109495 ]]\n",
      "выходные активации слоя  [[0.61013856]]\n",
      "последняя ошибка: [[-0.09273614]]\n",
      "ошибка: [[-0.00276625]\n",
      " [-0.00762292]]\n"
     ]
    }
   ],
   "source": [
    "y=np.array([[1.0]])\n",
    "x=np.array([[0.0],[1.0],[1.0]])\n",
    "l0=NeuralNetworkLayer(np.array([[0.7, 0.8, 0.7],[0.8, 0.3, 0.6]]),np.array([[0.0],[0.0]]))\n",
    "l1=NeuralNetworkLayer(np.array([[0.2,0.4]]),np.array([[0.0]]))\n",
    "NN=NeuralNetwork([l0, l1],x,y)\n",
    "NN.vectorized_forward_pass()\n",
    "NN.errors()"
   ]
  },
  {
   "cell_type": "markdown",
   "metadata": {},
   "source": [
    "### Класс \"Нейросеть\""
   ]
  },
  {
   "cell_type": "code",
   "execution_count": 8,
   "metadata": {},
   "outputs": [],
   "source": [
    "class NeuralNetworkPast:\n",
    "        \n",
    "    def __init__(self, weights, a,  bias, activ_f=sigmoid):\n",
    "        \n",
    "        self.w = weights\n",
    "        self.b = bias\n",
    "        self.activ_f = activ_f\n",
    "        self.a = a\n",
    "        \n",
    "    def summatory(self, x, w, b):\n",
    "        w=np.array(w)\n",
    "        return w.dot(x)+b\n",
    "    \n",
    "    def activation(self, z):   \n",
    "        return self.activ_f(z)\n",
    "    \n",
    "    def vectorized_forward_pass(self, x):\n",
    "        self.a[0]=x\n",
    "        for i in range(1,self.a.shape[0]):\n",
    "            self.a[i]=self.activation(self.summatory(self.a[i-1], self.w[i-1], self.b[i]))\n",
    "        print('выходные активации:',self.a)\n",
    "        \n",
    "        \n",
    "    def last_error(self, y):\n",
    "        a=self.a[-1]\n",
    "        return (a-y)*a*(1-a)\n",
    "        \n",
    "    def get_error(self, d, a, w):\n",
    "        w=np.array(w)\n",
    "        a=np.array(a)\n",
    "        return (w.T.dot(d)*a*(1-a))\n",
    "  \n",
    "    def errors(self, y):\n",
    "        d=self.last_error(y)\n",
    "        print('последняя ошибка:',d)\n",
    "        n=self.w.shape[0]\n",
    "        for i in range(n-1,0,-1):\n",
    "            d2=self.get_error(d,self.a[i],self.w[1])            \n",
    "            self.w[i]-=d.dot(self.a[i].T)\n",
    "            self.b[i+1]-=d\n",
    "            d=d2\n",
    "            print('ошибка:',d)\n",
    "        self.w[0]-=d.dot(self.a[0].T)\n",
    "        self.b[1]-=d\n",
    "        print(-d.dot(self.a[0].T))\n",
    "\n",
    "    '''\n",
    "    def errors2(self, y):\n",
    "        d=self.last_error(y)\n",
    "        #d=-0.09146642\n",
    "        print('последняя ошибка:',d)\n",
    "        w=np.array(self.w[1][0])\n",
    "        a=np.array(self.a[1])\n",
    "        d21=w[0]*d\n",
    "        d22=w[1]*d*a[1]*(1-a[1])\n",
    "        print('ошибки:',d21, d22)\n",
    "    '''"
   ]
  },
  {
   "cell_type": "markdown",
   "metadata": {},
   "source": [
    "### Блок тестирования"
   ]
  },
  {
   "cell_type": "code",
   "execution_count": 40,
   "metadata": {},
   "outputs": [
    {
     "name": "stdout",
     "output_type": "stream",
     "text": [
      "выходные активации: [array([[0],\n",
      "       [1],\n",
      "       [1]])\n",
      " array([[0.81757448],\n",
      "       [0.7109495 ]]) array([[0.61013856]])]\n",
      "последняя ошибка: [[-0.09273614]]\n",
      "ошибка: [[-0.00276625]\n",
      " [-0.00762292]]\n",
      "[[-0.          0.00276625  0.00276625]\n",
      " [-0.          0.00762292  0.00762292]]\n"
     ]
    }
   ],
   "source": [
    "y=np.array([[1]])\n",
    "x=np.array([[0],[1],[1]])\n",
    "w=np.array([[[0.7, 0.8, 0.7],[0.8, 0.3, 0.6]],[[0.2,0.4]]])\n",
    "a=np.array([x,[[0],[0]],[[0]]])\n",
    "b=np.array([[[0],[0],[0]],[[0],[0]],[[0]]])\n",
    "NN=NeuralNetworkPast(w,a,b)\n",
    "NN.vectorized_forward_pass(x)\n",
    "NN.errors(y)"
   ]
  },
  {
   "cell_type": "code",
   "execution_count": 193,
   "metadata": {},
   "outputs": [
    {
     "data": {
      "text/plain": [
       "0.35792543"
      ]
     },
     "execution_count": 193,
     "metadata": {},
     "output_type": "execute_result"
    }
   ],
   "source": [
    "1-0.64207457"
   ]
  }
 ],
 "metadata": {
  "kernelspec": {
   "display_name": "Python 3",
   "language": "python",
   "name": "python3"
  },
  "language_info": {
   "codemirror_mode": {
    "name": "ipython",
    "version": 3
   },
   "file_extension": ".py",
   "mimetype": "text/x-python",
   "name": "python",
   "nbconvert_exporter": "python",
   "pygments_lexer": "ipython3",
   "version": "3.6.7"
  }
 },
 "nbformat": 4,
 "nbformat_minor": 2
}
