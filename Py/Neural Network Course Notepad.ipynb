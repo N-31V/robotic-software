{
 "cells": [
  {
   "cell_type": "markdown",
   "metadata": {
    "scrolled": true
   },
   "source": [
    "# Блокнот курса \"Нейронные сети\""
   ]
  },
  {
   "cell_type": "markdown",
   "metadata": {},
   "source": [
    "$\\hat{\\beta}=(X^TX)^{-1}X^TY$\n"
   ]
  },
  {
   "cell_type": "code",
   "execution_count": 4,
   "metadata": {},
   "outputs": [
    {
     "name": "stdout",
     "output_type": "stream",
     "text": [
      "[[-2.34210526]\n",
      " [ 0.19473684]]\n"
     ]
    }
   ],
   "source": [
    "import numpy as np\n",
    "X=np.array([[1,60],[1,50],[1,75]])\n",
    "Y=np.array([[10],[7],[12]])\n",
    "Xt=X.T\n",
    "beta=((np.linalg.inv(Xt.dot(X))).dot(Xt)).dot(Y)\n",
    "print(beta)"
   ]
  },
  {
   "cell_type": "code",
   "execution_count": 14,
   "metadata": {},
   "outputs": [
    {
     "name": "stdout",
     "output_type": "stream",
     "text": [
      "-3.655804285063196 -0.21639550236913635 0.07373059817548444 4.412450576912905 -25.468448784099685 7.1432015507462605 -1.3010876776490226\n"
     ]
    }
   ],
   "source": [
    "import urllib\n",
    "from urllib import request\n",
    "import numpy as np\n",
    "fname = 'https://stepic.org/media/attachments/lesson/16462/boston_houses.csv'\n",
    "f = urllib.request.urlopen(fname)  # open file from URL\n",
    "data = np.loadtxt(f, delimiter=',', skiprows=1)  # load data to work with\n",
    "X=data[:, 1:] \n",
    "X=np.hstack((np.ones((data.shape[0], 1)),X))\n",
    "Y=data[:, 0] \n",
    "Xt=X.T\n",
    "beta=((np.linalg.inv(Xt.dot(X))).dot(Xt)).dot(Y)\n",
    "print(\" \".join(map(str, beta)))"
   ]
  },
  {
   "cell_type": "code",
   "execution_count": null,
   "metadata": {},
   "outputs": [],
   "source": []
  }
 ],
 "metadata": {
  "kernelspec": {
   "display_name": "Python 3",
   "language": "python",
   "name": "python3"
  },
  "language_info": {
   "codemirror_mode": {
    "name": "ipython",
    "version": 3
   },
   "file_extension": ".py",
   "mimetype": "text/x-python",
   "name": "python",
   "nbconvert_exporter": "python",
   "pygments_lexer": "ipython3",
   "version": "3.6.7"
  }
 },
 "nbformat": 4,
 "nbformat_minor": 2
}
